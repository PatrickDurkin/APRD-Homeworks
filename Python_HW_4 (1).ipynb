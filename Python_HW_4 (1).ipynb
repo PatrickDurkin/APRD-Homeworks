{
 "cells": [
  {
   "cell_type": "code",
   "execution_count": 0,
   "metadata": {
    "colab": {},
    "colab_type": "code",
    "id": "2uWX_aUlRQSC"
   },
   "outputs": [],
   "source": [
    "import pandas as pd\n",
    "import requests\n",
    "import json\n",
    "\n",
    "\n",
    "df = pd.read_csv('https://s3.amazonaws.com/vargo.aprd6342/data/msas.csv')"
   ]
  },
  {
   "cell_type": "code",
   "execution_count": 0,
   "metadata": {
    "colab": {
     "base_uri": "https://localhost:8080/",
     "height": 204
    },
    "colab_type": "code",
    "id": "Xbxybx2MWhWC",
    "outputId": "9c0127bc-6188-4b50-9565-23f4d688e900"
   },
   "outputs": [
    {
     "data": {
      "text/html": [
       "<div>\n",
       "<style scoped>\n",
       "    .dataframe tbody tr th:only-of-type {\n",
       "        vertical-align: middle;\n",
       "    }\n",
       "\n",
       "    .dataframe tbody tr th {\n",
       "        vertical-align: top;\n",
       "    }\n",
       "\n",
       "    .dataframe thead th {\n",
       "        text-align: right;\n",
       "    }\n",
       "</style>\n",
       "<table border=\"1\" class=\"dataframe\">\n",
       "  <thead>\n",
       "    <tr style=\"text-align: right;\">\n",
       "      <th></th>\n",
       "      <th>CBSA</th>\n",
       "      <th>NAME</th>\n",
       "      <th>POPESTIMATE2017</th>\n",
       "    </tr>\n",
       "  </thead>\n",
       "  <tbody>\n",
       "    <tr>\n",
       "      <th>0</th>\n",
       "      <td>10180</td>\n",
       "      <td>Abilene, TX</td>\n",
       "      <td>170219</td>\n",
       "    </tr>\n",
       "    <tr>\n",
       "      <th>1</th>\n",
       "      <td>10420</td>\n",
       "      <td>Akron, OH</td>\n",
       "      <td>703505</td>\n",
       "    </tr>\n",
       "    <tr>\n",
       "      <th>2</th>\n",
       "      <td>10500</td>\n",
       "      <td>Albany, GA</td>\n",
       "      <td>151434</td>\n",
       "    </tr>\n",
       "    <tr>\n",
       "      <th>3</th>\n",
       "      <td>10540</td>\n",
       "      <td>Albany, OR</td>\n",
       "      <td>125047</td>\n",
       "    </tr>\n",
       "    <tr>\n",
       "      <th>4</th>\n",
       "      <td>10580</td>\n",
       "      <td>Albany-Schenectady-Troy, NY</td>\n",
       "      <td>886188</td>\n",
       "    </tr>\n",
       "  </tbody>\n",
       "</table>\n",
       "</div>"
      ],
      "text/plain": [
       "    CBSA                         NAME  POPESTIMATE2017\n",
       "0  10180                  Abilene, TX           170219\n",
       "1  10420                    Akron, OH           703505\n",
       "2  10500                   Albany, GA           151434\n",
       "3  10540                   Albany, OR           125047\n",
       "4  10580  Albany-Schenectady-Troy, NY           886188"
      ]
     },
     "execution_count": 2,
     "metadata": {
      "tags": []
     },
     "output_type": "execute_result"
    }
   ],
   "source": [
    "df.head()"
   ]
  },
  {
   "cell_type": "code",
   "execution_count": 0,
   "metadata": {
    "colab": {},
    "colab_type": "code",
    "id": "sgAmLS9yXhHW"
   },
   "outputs": [],
   "source": [
    "cid = ['B19001', 'B01001', 'B03002']\n",
    "cidstring = \",\".join(cid)"
   ]
  },
  {
   "cell_type": "code",
   "execution_count": 0,
   "metadata": {
    "colab": {},
    "colab_type": "code",
    "id": "fR8ihZdNDZ0Z"
   },
   "outputs": [],
   "source": [
    "geoid = '31000US' + df['CBSA'].astype(str)\n",
    "df['geoid'] = geoid"
   ]
  },
  {
   "cell_type": "code",
   "execution_count": 0,
   "metadata": {
    "colab": {
     "base_uri": "https://localhost:8080/",
     "height": 204
    },
    "colab_type": "code",
    "id": "99_C-ulfF4mB",
    "outputId": "1548261b-a67c-436b-b3fd-98852b63376d"
   },
   "outputs": [
    {
     "data": {
      "text/html": [
       "<div>\n",
       "<style scoped>\n",
       "    .dataframe tbody tr th:only-of-type {\n",
       "        vertical-align: middle;\n",
       "    }\n",
       "\n",
       "    .dataframe tbody tr th {\n",
       "        vertical-align: top;\n",
       "    }\n",
       "\n",
       "    .dataframe thead th {\n",
       "        text-align: right;\n",
       "    }\n",
       "</style>\n",
       "<table border=\"1\" class=\"dataframe\">\n",
       "  <thead>\n",
       "    <tr style=\"text-align: right;\">\n",
       "      <th></th>\n",
       "      <th>CBSA</th>\n",
       "      <th>NAME</th>\n",
       "      <th>POPESTIMATE2017</th>\n",
       "      <th>geoid</th>\n",
       "    </tr>\n",
       "  </thead>\n",
       "  <tbody>\n",
       "    <tr>\n",
       "      <th>0</th>\n",
       "      <td>10180</td>\n",
       "      <td>Abilene, TX</td>\n",
       "      <td>170219</td>\n",
       "      <td>31000US10180</td>\n",
       "    </tr>\n",
       "    <tr>\n",
       "      <th>1</th>\n",
       "      <td>10420</td>\n",
       "      <td>Akron, OH</td>\n",
       "      <td>703505</td>\n",
       "      <td>31000US10420</td>\n",
       "    </tr>\n",
       "    <tr>\n",
       "      <th>2</th>\n",
       "      <td>10500</td>\n",
       "      <td>Albany, GA</td>\n",
       "      <td>151434</td>\n",
       "      <td>31000US10500</td>\n",
       "    </tr>\n",
       "    <tr>\n",
       "      <th>3</th>\n",
       "      <td>10540</td>\n",
       "      <td>Albany, OR</td>\n",
       "      <td>125047</td>\n",
       "      <td>31000US10540</td>\n",
       "    </tr>\n",
       "    <tr>\n",
       "      <th>4</th>\n",
       "      <td>10580</td>\n",
       "      <td>Albany-Schenectady-Troy, NY</td>\n",
       "      <td>886188</td>\n",
       "      <td>31000US10580</td>\n",
       "    </tr>\n",
       "  </tbody>\n",
       "</table>\n",
       "</div>"
      ],
      "text/plain": [
       "    CBSA                         NAME  POPESTIMATE2017         geoid\n",
       "0  10180                  Abilene, TX           170219  31000US10180\n",
       "1  10420                    Akron, OH           703505  31000US10420\n",
       "2  10500                   Albany, GA           151434  31000US10500\n",
       "3  10540                   Albany, OR           125047  31000US10540\n",
       "4  10580  Albany-Schenectady-Troy, NY           886188  31000US10580"
      ]
     },
     "execution_count": 5,
     "metadata": {
      "tags": []
     },
     "output_type": "execute_result"
    }
   ],
   "source": [
    "df.head()"
   ]
  },
  {
   "cell_type": "code",
   "execution_count": 0,
   "metadata": {
    "colab": {},
    "colab_type": "code",
    "id": "Zkig8QCyHN3k"
   },
   "outputs": [],
   "source": [
    "geoidstring_part1 = \",\".join(geoid[:int(len(geoid)/2)])\n",
    "requesturl1 = 'http://api.censusreporter.org/1.0/data/show/latest?table_ids=%s&geo_ids=%s' % (cidstring, geoidstring_part1)\n",
    "loadedjson1 = requests.get(requesturl1)\n",
    "parsedjson1 = json.loads(loadedjson1.text)"
   ]
  },
  {
   "cell_type": "code",
   "execution_count": 0,
   "metadata": {
    "colab": {},
    "colab_type": "code",
    "id": "SarOR_6THsE_"
   },
   "outputs": [],
   "source": [
    "geoidstring_part2 = \",\".join(geoid[int(len(geoid)/2):])\n",
    "requesturl2 = 'http://api.censusreporter.org/1.0/data/show/latest?table_ids=%s&geo_ids=%s' % (cidstring, geoidstring_part2)\n",
    "loadedjson2 = requests.get(requesturl2)\n",
    "parsedjson2 = json.loads(loadedjson2.text)"
   ]
  },
  {
   "cell_type": "code",
   "execution_count": 0,
   "metadata": {
    "colab": {},
    "colab_type": "code",
    "id": "NzLvKY_SIJ62"
   },
   "outputs": [],
   "source": [
    "parsedjson = dict(parsedjson1['data'], **parsedjson2['data'])"
   ]
  },
  {
   "cell_type": "code",
   "execution_count": 0,
   "metadata": {
    "colab": {
     "base_uri": "https://localhost:8080/",
     "height": 374
    },
    "colab_type": "code",
    "id": "VZ-6nGOhJJ3w",
    "outputId": "b7a53f47-ea19-48f8-c1d3-b384ea526ae0"
   },
   "outputs": [
    {
     "data": {
      "text/plain": [
       "{'B03002001': 174006.0,\n",
       " 'B03002002': 133580.0,\n",
       " 'B03002003': 110633.0,\n",
       " 'B03002004': 13466.0,\n",
       " 'B03002005': 648.0,\n",
       " 'B03002006': 3491.0,\n",
       " 'B03002007': 0.0,\n",
       " 'B03002008': 578.0,\n",
       " 'B03002009': 4764.0,\n",
       " 'B03002010': 706.0,\n",
       " 'B03002011': 4058.0,\n",
       " 'B03002012': 40426.0,\n",
       " 'B03002013': 21001.0,\n",
       " 'B03002014': 1075.0,\n",
       " 'B03002015': 0.0,\n",
       " 'B03002016': 461.0,\n",
       " 'B03002017': 27.0,\n",
       " 'B03002018': 16003.0,\n",
       " 'B03002019': 1859.0,\n",
       " 'B03002020': 871.0,\n",
       " 'B03002021': 988.0}"
      ]
     },
     "execution_count": 9,
     "metadata": {
      "tags": []
     },
     "output_type": "execute_result"
    }
   ],
   "source": [
    "parsedjson['31000US10180']['B03002']['estimate']"
   ]
  },
  {
   "cell_type": "code",
   "execution_count": 0,
   "metadata": {
    "colab": {},
    "colab_type": "code",
    "id": "9VFMZWqCNgMZ"
   },
   "outputs": [],
   "source": [
    "HH_Income = []\n",
    "Pop_by_age = []\n",
    "Pop_by_Hispanic = []\n",
    "for i, row in df.iterrows():\n",
    "    Income = parsedjson[df['geoid'][i]]['B19001']['estimate']['B19001011']\n",
    "    + parsedjson[df['geoid'][i]]['B19001']['estimate']['B19001012'] \n",
    "    HH_Income.append(Income)\n",
    "    Pop = parsedjson[df['geoid'][i]]['B01001']['estimate']['B01001007']\n",
    "    + parsedjson[df['geoid'][i]]['B01001']['estimate']['B01001008']\n",
    "    + parsedjson[df['geoid'][i]]['B01001']['estimate']['B01001009']\n",
    "    + parsedjson[df['geoid'][i]]['B01001']['estimate']['B01001010']\n",
    "    + parsedjson[df['geoid'][i]]['B01001']['estimate']['B01001011']\n",
    "    + parsedjson[df['geoid'][i]]['B01001']['estimate']['B01001012']\n",
    "    + parsedjson[df['geoid'][i]]['B01001']['estimate']['B01001031']\n",
    "    + parsedjson[df['geoid'][i]]['B01001']['estimate']['B01001032']\n",
    "    + parsedjson[df['geoid'][i]]['B01001']['estimate']['B01001033']\n",
    "    + parsedjson[df['geoid'][i]]['B01001']['estimate']['B01001034']\n",
    "    + parsedjson[df['geoid'][i]]['B01001']['estimate']['B01001035']\n",
    "    + parsedjson[df['geoid'][i]]['B01001']['estimate']['B01001036']\n",
    "    Pop_by_age.append(Pop)\n",
    "    Hispanic = parsedjson[df['geoid'][i]]['B03002']['estimate']['B03002012']\n",
    "    Pop_by_Hispanic.append(Hispanic)\n",
    "\n",
    "df['Pop_by_Income'] = HH_Income\n",
    "df['Pop_by_Age'] = Pop_by_age\n",
    "df['Pop_by_Hispanic'] = Pop_by_Hispanic"
   ]
  },
  {
   "cell_type": "code",
   "execution_count": 0,
   "metadata": {
    "colab": {
     "base_uri": "https://localhost:8080/",
     "height": 119
    },
    "colab_type": "code",
    "id": "1WOmECmXQzis",
    "outputId": "7c9807e7-9e35-4cf9-96f6-ae7d2b365db6"
   },
   "outputs": [
    {
     "name": "stdout",
     "output_type": "stream",
     "text": [
      "249    New York-Newark-Jersey City, NY-NJ-PA\n",
      "Name: NAME, dtype: object\n",
      "249    New York-Newark-Jersey City, NY-NJ-PA\n",
      "Name: NAME, dtype: object\n",
      "210    Los Angeles-Long Beach-Anaheim, CA\n",
      "Name: NAME, dtype: object\n"
     ]
    }
   ],
   "source": [
    "#parameter 1\n",
    "print(df.loc[df['Pop_by_Income'] == max(df['Pop_by_Income'])]['NAME'])\n",
    "\n",
    "#parameter 2\n",
    "print(df.loc[df['Pop_by_Age'] == max(df['Pop_by_Age'])]['NAME'])\n",
    "\n",
    "#parameter 3\n",
    "print(df.loc[df['Pop_by_Hispanic'] == max(df['Pop_by_Hispanic'])]['NAME'])\n"
   ]
  },
  {
   "cell_type": "code",
   "execution_count": 0,
   "metadata": {
    "colab": {},
    "colab_type": "code",
    "id": "exNvllHtRYW9"
   },
   "outputs": [],
   "source": [
    "HH_Income_Percentage = []\n",
    "Pop_by_age_Percentage = []\n",
    "Pop_by_Hispanic_Percentage = []\n",
    "for i, row in df.iterrows():\n",
    "    Percentage_Income = df['Pop_by_Income'][i]/max(df['Pop_by_Income'])\n",
    "    Percentage_Age = df['Pop_by_Age'][i]/max(df['Pop_by_Age'])\n",
    "    Percentage_Hispanic = df['Pop_by_Hispanic'][i]/max(df['Pop_by_Hispanic'])\n",
    "    HH_Income_Percentage.append(Percentage_Income)\n",
    "    Pop_by_age_Percentage.append(Percentage_Age)\n",
    "    Pop_by_Hispanic_Percentage.append(Percentage_Hispanic)\n",
    "\n",
    "df['HH_Income_Percentage'] = HH_Income_Percentage\n",
    "df['Pop_by_age_Percentage'] = Pop_by_age_Percentage\n",
    "df['Pop_by_Hispanic_Percentage'] = Pop_by_Hispanic_Percentage\n",
    "\n",
    "mean_percentage_score = []\n",
    "for i, row in df.iterrows():\n",
    "    Mean = (df['HH_Income_Percentage'][i] + df['Pop_by_age_Percentage'][i]+ df['Pop_by_Hispanic_Percentage'][i])/3\n",
    "    mean_percentage_score.append(Mean)\n",
    "df['mean_percentage_score'] = mean_percentage_score\n",
    "\n",
    "\n"
   ]
  },
  {
   "cell_type": "code",
   "execution_count": 0,
   "metadata": {
    "colab": {
     "base_uri": "https://localhost:8080/",
     "height": 51
    },
    "colab_type": "code",
    "id": "4PwCTuFjTB7h",
    "outputId": "29881870-1651-425c-8526-29e24baa36ff"
   },
   "outputs": [
    {
     "name": "stdout",
     "output_type": "stream",
     "text": [
      "249    New York-Newark-Jersey City, NY-NJ-PA\n",
      "Name: NAME, dtype: object\n"
     ]
    }
   ],
   "source": [
    "#highest mean percentage\n",
    "print(df.loc[df['mean_percentage_score'] == max(df['mean_percentage_score'])]['NAME'])"
   ]
  }
 ],
 "metadata": {
  "colab": {
   "name": "Python HW 4.ipynb",
   "provenance": []
  },
  "kernelspec": {
   "display_name": "Python 3",
   "language": "python",
   "name": "python3"
  },
  "language_info": {
   "codemirror_mode": {
    "name": "ipython",
    "version": 3
   },
   "file_extension": ".py",
   "mimetype": "text/x-python",
   "name": "python",
   "nbconvert_exporter": "python",
   "pygments_lexer": "ipython3",
   "version": "3.7.3"
  }
 },
 "nbformat": 4,
 "nbformat_minor": 1
}
